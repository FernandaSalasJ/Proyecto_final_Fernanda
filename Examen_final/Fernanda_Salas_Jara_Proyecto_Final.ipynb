{
  "cells": [
    {
      "cell_type": "markdown",
      "id": "a62202dd",
      "metadata": {
        "id": "a62202dd"
      },
      "source": [
        "# Estudio de emisiones de Dioxido de Carbono"
      ]
    },
    {
      "cell_type": "markdown",
      "id": "8026dfad",
      "metadata": {},
      "source": [
        "## Estudiante: María Fernanda Salas Jara"
      ]
    },
    {
      "cell_type": "markdown",
      "id": "98d6cc2c",
      "metadata": {
        "id": "98d6cc2c"
      },
      "source": [
        "## Objetivo"
      ]
    },
    {
      "cell_type": "markdown",
      "id": "f6e5f5ed",
      "metadata": {
        "id": "f6e5f5ed"
      },
      "source": [
        "Cargar un archivo 'Carbon_Dioxide_Emission_Estimates.csv' responder las siguientes preguntas"
      ]
    },
    {
      "cell_type": "code",
      "execution_count": 2,
      "id": "d7c162f7",
      "metadata": {},
      "outputs": [
        {
          "name": "stdout",
          "output_type": "stream",
          "text": [
            "   Country  Year                                               Type     Value\n",
            "0  Albania  1975  Emissions (thousand metric tons of carbon diox...  4338.334\n",
            "1  Albania  1985  Emissions (thousand metric tons of carbon diox...  6929.926\n",
            "2  Albania  1995  Emissions (thousand metric tons of carbon diox...  1848.549\n",
            "3  Albania  2005  Emissions (thousand metric tons of carbon diox...  3825.184\n",
            "4  Albania  2010  Emissions (thousand metric tons of carbon diox...  3930.295\n"
          ]
        }
      ],
      "source": [
        "import pandas as pd\n",
        "\n",
        "df = pd.read_csv(\"Carbon_Dioxide_Emission_Estimates.csv\")\n",
        "\n",
        "print(df.head())"
      ]
    },
    {
      "cell_type": "markdown",
      "id": "e21e6b1c",
      "metadata": {
        "id": "e21e6b1c"
      },
      "source": [
        "## Contexto\n"
      ]
    },
    {
      "cell_type": "markdown",
      "id": "c4c7df65",
      "metadata": {
        "id": "c4c7df65"
      },
      "source": [
        "Se tiene un set de datos contenido en un archivo del tipo csv.\n",
        "\n",
        "El archivo es 'Carbon_Dioxide_Emission_Estimates.csv'.\n",
        "\n",
        "A continuación se presenta el paso cero para leer del archivo que contiene 2 tipos de filas según sea el valor en la columna 'Type':\n",
        "\n",
        "- Emissions_thousand__metric_tons_of_carbon_dioxide\n",
        "- Emissions_per_capita__metric_tons_of_carbon_dioxide\n",
        "\n",
        "El valor de las emisiones están en medidas de Toneladas métricas de Dióxido de Carbono"
      ]
    },
    {
      "cell_type": "markdown",
      "id": "352UFM-aEWCT",
      "metadata": {
        "id": "352UFM-aEWCT"
      },
      "source": [
        "# Pregunta 0\n",
        "\n",
        "1. Crear un dataframe con el nombre de variable 'df_emisions_co2' usando únicamente las filas cuya columna 'Type' tiene el valor 'Emissions (thousand metric tons of carbon dioxide)'\n",
        "\n",
        "2. Crear un dataframe con el nombre de variable 'df_emisions_co2_per_capita' usando únicamente las filas cuya columna 'Type' tiene el valor Emissions per capita (metric tons of carbon dioxide)"
      ]
    },
    {
      "cell_type": "code",
      "execution_count": 4,
      "id": "4b97e29a",
      "metadata": {},
      "outputs": [
        {
          "name": "stdout",
          "output_type": "stream",
          "text": [
            "-----Data Frame Emisiones de CO2 por tonelada----- \n",
            "    Country  Year                                               Type     Value\n",
            "0  Albania  1975  Emissions (thousand metric tons of carbon diox...  4338.334\n",
            "1  Albania  1985  Emissions (thousand metric tons of carbon diox...  6929.926\n",
            "2  Albania  1995  Emissions (thousand metric tons of carbon diox...  1848.549\n",
            "3  Albania  2005  Emissions (thousand metric tons of carbon diox...  3825.184\n",
            "4  Albania  2010  Emissions (thousand metric tons of carbon diox...  3930.295\n",
            "-----Data Frame Emisiones de CO2 por tonelada per capita ----- \n",
            "     Country  Year                                               Type  Value\n",
            "8   Albania  1975  Emissions per capita (metric tons of carbon di...  1.804\n",
            "9   Albania  1985  Emissions per capita (metric tons of carbon di...  2.337\n",
            "10  Albania  1995  Emissions per capita (metric tons of carbon di...  0.580\n",
            "11  Albania  2005  Emissions per capita (metric tons of carbon di...  1.270\n",
            "12  Albania  2010  Emissions per capita (metric tons of carbon di...  1.349\n"
          ]
        }
      ],
      "source": [
        "#Creando dataframes\n",
        "df_emisions_co2 = df[df[\"Type\"] == \"Emissions (thousand metric tons of carbon dioxide)\"]\n",
        "df_emisions_co2_per_capita = df[df[\"Type\"] == \"Emissions per capita (metric tons of carbon dioxide)\"] \n",
        "\n",
        "print(f\"-----Data Frame Emisiones de CO2 por tonelada----- \\n {df_emisions_co2.head()}\")\n",
        "print(f\"-----Data Frame Emisiones de CO2 por tonelada per capita ----- \\n {df_emisions_co2_per_capita.head()}\")"
      ]
    },
    {
      "cell_type": "markdown",
      "id": "d6bd6661",
      "metadata": {
        "id": "d6bd6661"
      },
      "source": [
        "# Pregunta 1"
      ]
    },
    {
      "cell_type": "markdown",
      "id": "3299b6b5",
      "metadata": {
        "id": "3299b6b5"
      },
      "source": [
        "Cuántas filas tiene el dataframe 'df_emisions_co2'?"
      ]
    },
    {
      "cell_type": "code",
      "execution_count": 6,
      "id": "f02d60cc",
      "metadata": {
        "id": "f02d60cc"
      },
      "outputs": [
        {
          "name": "stdout",
          "output_type": "stream",
          "text": [
            " El dataframe df_emisions_co2 contiene: 1066 filas\n"
          ]
        }
      ],
      "source": [
        "# Coloque el código que responda a la pregunta aqui\n",
        "\n",
        "print(f' El dataframe df_emisions_co2 contiene: {len(df_emisions_co2)} filas')"
      ]
    },
    {
      "cell_type": "markdown",
      "id": "880f891d",
      "metadata": {
        "id": "880f891d"
      },
      "source": [
        "# Pregunta 2"
      ]
    },
    {
      "cell_type": "markdown",
      "id": "34700c9d",
      "metadata": {
        "id": "34700c9d"
      },
      "source": [
        "Cuál en el valor más alto de emisiones (en general) usando el dataframe 'df_emisions_co2'?"
      ]
    },
    {
      "cell_type": "code",
      "execution_count": 11,
      "id": "24bdf93a",
      "metadata": {
        "id": "24bdf93a"
      },
      "outputs": [
        {
          "name": "stdout",
          "output_type": "stream",
          "text": [
            "El valor mas alto de emisiones es: 9257933.9 mil toneladaas de CO2\n"
          ]
        }
      ],
      "source": [
        "# Coloque el código que responda a la pregunta aqui exactamente lo que se pregunta\n",
        "\n",
        "max_emision = df_emisions_co2['Value'].max()\n",
        "\n",
        "print(f'El valor mas alto de emisiones es: {max_emision} mil toneladaas de CO2')"
      ]
    },
    {
      "cell_type": "markdown",
      "id": "7ebd3621",
      "metadata": {
        "id": "7ebd3621"
      },
      "source": [
        "# Pregunta 3"
      ]
    },
    {
      "cell_type": "markdown",
      "id": "eb81f1c8",
      "metadata": {
        "id": "eb81f1c8"
      },
      "source": [
        "Cuántos países (Countries) hay en el dataframe 'df_emisions_co2'?"
      ]
    },
    {
      "cell_type": "code",
      "execution_count": null,
      "id": "4f60454b",
      "metadata": {
        "id": "4f60454b"
      },
      "outputs": [
        {
          "name": "stdout",
          "output_type": "stream",
          "text": [
            "La cantidad de paises en el dataframe es de: 142\n"
          ]
        }
      ],
      "source": [
        "# Coloque el código que responda a la pregunta aqui exactamente lo que se pregunta\n",
        "cantidad_paises = df_emisions_co2['Country'].nunique()\n",
        "\n",
        "print(f'La cantidad de paises en el dataframe es de: {cantidad_paises}')"
      ]
    },
    {
      "cell_type": "code",
      "execution_count": 10,
      "id": "2f46faa0",
      "metadata": {
        "id": "2f46faa0"
      },
      "outputs": [
        {
          "name": "stdout",
          "output_type": "stream",
          "text": [
            "-----Lista de paises que reportan emisiones de CO2----- \n",
            "['Albania', 'Algeria', 'Angola', 'Argentina', 'Armenia', 'Australia', 'Austria', 'Azerbaijan', 'Bahrain', 'Bangladesh', 'Belarus', 'Belgium', 'Benin', 'Bolivia (Plurin. State of)', 'Bosnia and Herzegovina', 'Botswana', 'Brazil', 'Brunei Darussalam', 'Bulgaria', 'Cambodia', 'Cameroon', 'Canada', 'Chile', 'China', 'China, Hong Kong SAR', 'Colombia', 'Congo', 'Costa Rica', 'Côte d’Ivoire', 'Croatia', 'Cuba', 'Curaçao', 'Cyprus', 'Czechia', \"Dem. People's Rep. Korea\", 'Dem. Rep. of the Congo', 'Denmark', 'Dominican Republic', 'Ecuador', 'Egypt', 'El Salvador', 'Eritrea', 'Estonia', 'Ethiopia', 'Finland', 'France', 'Gabon', 'Georgia', 'Germany', 'Ghana', 'Gibraltar', 'Greece', 'Guatemala', 'Haiti', 'Honduras', 'Hungary', 'Iceland', 'India', 'Indonesia', 'Iran (Islamic Republic of)', 'Iraq', 'Ireland', 'Israel', 'Italy', 'Jamaica', 'Japan', 'Jordan', 'Kazakhstan', 'Kenya', 'Kosovo', 'Kuwait', 'Kyrgyzstan', 'Latvia', 'Lebanon', 'Libya', 'Lithuania', 'Luxembourg', 'Malaysia', 'Malta', 'Mauritius', 'Mexico', 'Mongolia', 'Montenegro', 'Morocco', 'Mozambique', 'Myanmar', 'Namibia', 'Nepal', 'Netherlands', 'New Zealand', 'Nicaragua', 'Niger', 'Nigeria', 'Norway', 'Oman', 'Pakistan', 'Panama', 'Paraguay', 'Peru', 'Philippines', 'Poland', 'Portugal', 'Qatar', 'Republic of Korea', 'Republic of Moldova', 'Romania', 'Russian Federation', 'Saudi Arabia', 'Senegal', 'Serbia', 'Singapore', 'Slovakia', 'Slovenia', 'South Africa', 'South Sudan', 'Spain', 'Sri Lanka', 'Sudan', 'Suriname', 'Sweden', 'Switzerland', 'Syrian Arab Republic', 'Tajikistan', 'Thailand', 'North Macedonia', 'Togo', 'Trinidad and Tobago', 'Tunisia', 'Turkey', 'Turkmenistan', 'Ukraine', 'United Arab Emirates', 'United Kingdom', 'United Rep. of Tanzania', 'United States of America', 'Uruguay', 'Uzbekistan', 'Venezuela (Boliv. Rep. of)', 'Viet Nam', 'Yemen', 'Zambia', 'Zimbabwe']\n"
          ]
        }
      ],
      "source": [
        "#Imprima un lista con todos los paises\n",
        "\n",
        "lista_paises = df_emisions_co2['Country'].unique().tolist()\n",
        "print(f'-----Lista de paises que reportan emisiones de CO2----- \\n{lista_paises}')"
      ]
    },
    {
      "cell_type": "markdown",
      "id": "1e40352a",
      "metadata": {
        "id": "1e40352a"
      },
      "source": [
        "# Pregunta 4"
      ]
    },
    {
      "cell_type": "markdown",
      "id": "80c46908",
      "metadata": {
        "id": "80c46908"
      },
      "source": [
        "Cuál es el país que tiene mayor emisiones usando el dataframe 'df_emisions_co2'?"
      ]
    },
    {
      "cell_type": "code",
      "execution_count": 12,
      "id": "e6df7d42",
      "metadata": {
        "id": "e6df7d42"
      },
      "outputs": [
        {
          "name": "stdout",
          "output_type": "stream",
          "text": [
            "El país con mayores emisiones de CO2 es China, con un total de 9,257,933.90 mil toneladas CO2.\n"
          ]
        }
      ],
      "source": [
        "# Coloque el código que responda a la pregunta aqui exactamente lo que se pregunta\n",
        "\n",
        "max_emision_value = df_emisions_co2[df_emisions_co2['Value'] == max_emision]\n",
        "max_emision_country = max_emision_value['Country'].values[0]\n",
        "print(f'El país con mayores emisiones de CO2 es {max_emision_country}, con un total de {max_emision:,.2f} mil toneladas CO2.')\n"
      ]
    },
    {
      "cell_type": "markdown",
      "id": "26c97fde",
      "metadata": {
        "id": "26c97fde"
      },
      "source": [
        "# Pregunta 5"
      ]
    },
    {
      "cell_type": "markdown",
      "id": "541f44ca",
      "metadata": {
        "id": "541f44ca"
      },
      "source": [
        "Cuál es el año que tiene mayor emisiones para el país de Spain usando el dataframe 'df_emisions_co2'?"
      ]
    },
    {
      "cell_type": "code",
      "execution_count": null,
      "id": "c32f62d1",
      "metadata": {
        "id": "c32f62d1"
      },
      "outputs": [
        {
          "name": "stdout",
          "output_type": "stream",
          "text": [
            "El año con mayores emisiones de CO2 para el país de Espa;a es: 2005, con un total de 333,710.10 mil toneladas CO2.\n"
          ]
        }
      ],
      "source": [
        "# Coloque el código que responda a la pregunta aqui exactamente lo que se pregunta\n",
        "\n",
        "#1. filtrar los datos de espana\n",
        "df_spain_emisions = df_emisions_co2[df_emisions_co2['Country'] == 'Spain']\n",
        "\n",
        "#2. Valor con mas emisiones\n",
        "max_emision_spain = df_spain_emisions['Value'].max()\n",
        "\n",
        "#3. A;o con mas emisiones\n",
        "max_emision_spain_year = df_spain_emisions[df_spain_emisions['Value'] == max_emision_spain]['Year'].values[0]\n",
        "\n",
        "print(f'El año con mayores emisiones de CO2 para el país de Espa;a es: {max_emision_spain_year}, con un total de {max_emision_spain:,.2f} mil toneladas CO2.')"
      ]
    },
    {
      "cell_type": "markdown",
      "id": "55ce4564",
      "metadata": {
        "id": "55ce4564"
      },
      "source": [
        "# Pregunta 6"
      ]
    },
    {
      "cell_type": "markdown",
      "id": "3473e4f2",
      "metadata": {
        "id": "3473e4f2"
      },
      "source": [
        "Cuáles son los años que se tiene registros para el dataframe 'df_emisions_co2_per_capita'?\n",
        "\n",
        "Entrege una lista con los años sin repetirse"
      ]
    },
    {
      "cell_type": "code",
      "execution_count": 16,
      "id": "5ad50924",
      "metadata": {
        "id": "5ad50924"
      },
      "outputs": [
        {
          "name": "stdout",
          "output_type": "stream",
          "text": [
            "-----Años registrados en el dataframe \"df_emisions_co2_per_capita\"---- \n",
            " [1975, 1985, 1995, 2005, 2010, 2015, 2016, 2017]\n"
          ]
        }
      ],
      "source": [
        "# Coloque el código que responda a la pregunta aqui exactamente lo que se pregunta\n",
        "list_year_co2_percapita = df_emisions_co2_per_capita['Year'].unique().tolist()\n",
        "\n",
        "print(f'-----Años registrados en el dataframe \"df_emisions_co2_per_capita\"---- \\n {list_year_co2_percapita}')\n"
      ]
    },
    {
      "cell_type": "markdown",
      "id": "18fa522e",
      "metadata": {
        "id": "18fa522e"
      },
      "source": [
        "# Pregunta 7"
      ]
    },
    {
      "cell_type": "markdown",
      "id": "2747ce42",
      "metadata": {
        "id": "2747ce42"
      },
      "source": [
        "Cuántas son las emisiones en 'toneladas métricas' en total usando todos los países para usando el dataframe 'df_emisions_co2'?\n"
      ]
    },
    {
      "cell_type": "code",
      "execution_count": 18,
      "id": "e8cbd117",
      "metadata": {
        "id": "e8cbd117"
      },
      "outputs": [
        {
          "name": "stdout",
          "output_type": "stream",
          "text": [
            "-----Suma total de emisiones de CO2 en toneladas mrtricas----- \n",
            " 195,028,250,416.00 ton\n"
          ]
        }
      ],
      "source": [
        "# Coloque el código que responda a la pregunta aqui exactamente lo que se pregunta\n",
        "emisiones_ton_metricas = df_emisions_co2['Value'].sum() * 1000 \n",
        "\n",
        "print(f'-----Suma total de emisiones de CO2 en toneladas mrtricas----- \\n {emisiones_ton_metricas:,.2f} ton')"
      ]
    },
    {
      "cell_type": "markdown",
      "id": "42aa86db",
      "metadata": {
        "id": "42aa86db"
      },
      "source": [
        "# Pregunta 8"
      ]
    },
    {
      "cell_type": "markdown",
      "id": "a303974d",
      "metadata": {
        "id": "a303974d"
      },
      "source": [
        "Cuántas son las emisiones en 'toneladas métricas' sólo para Albania usando el dataframe 'df_emisions_co2'?\n"
      ]
    },
    {
      "cell_type": "code",
      "execution_count": 20,
      "id": "181ab815",
      "metadata": {
        "id": "181ab815"
      },
      "outputs": [
        {
          "name": "stdout",
          "output_type": "stream",
          "text": [
            "-----Total de emisiones de CO2 en Albania en toneladas metricas----- \n",
            " 32,713,283.00 ton\n"
          ]
        }
      ],
      "source": [
        "# Coloque el código que responda a la pregunta aqui exactamente lo que se pregunta\n",
        "#1. dataframe de albania\n",
        "df_albania_emisions = df_emisions_co2[df_emisions_co2['Country'] == 'Albania']\n",
        "\n",
        "#2. total de emisiones convertidas a ton metricas\n",
        "emisiones_albania_ton_metricas = df_albania_emisions['Value'].sum() * 1000\n",
        "\n",
        "print(f'-----Total de emisiones de CO2 en Albania en toneladas metricas----- \\n {emisiones_albania_ton_metricas:,.2f} ton')"
      ]
    },
    {
      "cell_type": "markdown",
      "id": "d084c9f3",
      "metadata": {
        "id": "d084c9f3"
      },
      "source": [
        "# Pregunta 9"
      ]
    },
    {
      "cell_type": "markdown",
      "id": "ae9cebff",
      "metadata": {
        "id": "ae9cebff"
      },
      "source": [
        "Cuántas son las emisiones en 'libras' sólo para Costa Rica usando el dataframe 'df_emisions_co2'?\n"
      ]
    },
    {
      "cell_type": "code",
      "execution_count": 21,
      "id": "ee97d492",
      "metadata": {
        "id": "ee97d492"
      },
      "outputs": [
        {
          "name": "stdout",
          "output_type": "stream",
          "text": [
            "-----Total de emisiones CO2 de Costa Rica en libras----- \n",
            " 93,085,906,154.34 libras\n"
          ]
        }
      ],
      "source": [
        "# Coloque el código que responda a la pregunta aqui exactamente lo que se pregunta\n",
        "\n",
        "#filtro para CR\n",
        "df_cr_emisions = df_emisions_co2[df_emisions_co2['Country'] == 'Costa Rica']\n",
        "\n",
        "#conversion a toneladas metricas\n",
        "emisiones_cr_ton_metricas = df_cr_emisions['Value'].sum() * 1000\n",
        "\n",
        "#conversion a libras\n",
        "emisiones_cr_libras = emisiones_cr_ton_metricas * 2204.62\n",
        "\n",
        "print(f'-----Total de emisiones CO2 de Costa Rica en libras----- \\n {emisiones_cr_libras:,.2f} libras')"
      ]
    },
    {
      "cell_type": "markdown",
      "id": "eb6dfc54",
      "metadata": {
        "id": "eb6dfc54"
      },
      "source": [
        "# Pregunta 10"
      ]
    },
    {
      "cell_type": "markdown",
      "id": "5862817e",
      "metadata": {
        "id": "5862817e"
      },
      "source": [
        "Para sólo 'Costa Rica' y suponiendo que las emisiones se estancan a partir del último año reportado. Cuántas son las emisiones en 'Kg' sólo para Costa Rica en el año 2022 usando el dataframe 'df_emisions_co2'?\n"
      ]
    },
    {
      "cell_type": "code",
      "execution_count": 24,
      "id": "76ed009c",
      "metadata": {
        "id": "76ed009c"
      },
      "outputs": [
        {
          "name": "stdout",
          "output_type": "stream",
          "text": [
            "----- Emisiones de CR en Kg de CO2 para el anio 2022----- \n",
            " 7,584,411,000.00 Kg\n",
            "Asumiendo que las emisiones se mantienen constantes a partir del ultimo reporte en el anio 2017\n"
          ]
        }
      ],
      "source": [
        "# Coloque el código que responda a la pregunta aqui exactamente lo que se pregunta\n",
        "\n",
        "#1. ultimo anio reportado para costarica\n",
        "cr_ultimo_year = df_cr_emisions['Year'].max()\n",
        "\n",
        "#2. emisiones del ultimo anio\n",
        "emisiones_cr_ultimo_year = df_cr_emisions[df_cr_emisions['Year'] == cr_ultimo_year]['Value'].sum() * 1000 \n",
        "\n",
        "#3. pasar a kg\n",
        "emisiones_cr_2022_kg = emisiones_cr_ultimo_year * 1000\n",
        "    \n",
        "print(f'----- Emisiones de CR en Kg de CO2 para el anio 2022----- \\n {emisiones_cr_2022_kg:,.2f} Kg')\n",
        "print(f'Asumiendo que las emisiones se mantienen constantes a partir del ultimo reporte en el anio {cr_ultimo_year}')\n"
      ]
    },
    {
      "cell_type": "markdown",
      "id": "1c18874b",
      "metadata": {
        "id": "1c18874b"
      },
      "source": [
        "# Pregunta 12"
      ]
    },
    {
      "cell_type": "markdown",
      "id": "6a487c43",
      "metadata": {
        "id": "6a487c43"
      },
      "source": [
        "Para sólo los países de Centroamérica ['El Salvador', 'Honduras', 'Guatemala', 'Costa Rica', 'Nicaragua'] obtener un reporte por año de las emisiones totales en Centroamérica usando el dataframe 'df_emisions_co2'?\n",
        "Se espera un dataframe de 2 columnas: 'Year' y 'total_por_año'"
      ]
    },
    {
      "cell_type": "code",
      "execution_count": null,
      "id": "1d0426bf",
      "metadata": {
        "id": "1d0426bf"
      },
      "outputs": [
        {
          "name": "stdout",
          "output_type": "stream",
          "text": [
            "   Year  total_por_año\n",
            "0  1975       9860.972\n",
            "1  1985      10250.333\n",
            "2  1995      20960.234\n",
            "3  2005      33562.291\n",
            "4  2010      34533.555\n",
            "5  2015      43107.376\n",
            "6  2016      44366.072\n",
            "7  2017      43556.261\n"
          ]
        }
      ],
      "source": [
        "# Coloque el código que responda a la pregunta aqui exactamente lo que se pregunta\n",
        "\n",
        "#1 lista de paises\n",
        "paises_centroamerica = ['El Salvador', 'Honduras', 'Guatemala', 'Costa Rica', 'Nicaragua']\n",
        "\n",
        "#2. seleccioinar paises \n",
        "df_centroamerica = df_emisions_co2[df_emisions_co2['Country'].isin(paises_centroamerica)]\n",
        "\n",
        "#3. group by anio y emisiones totales\n",
        "df_centroamerica_year = df_centroamerica.groupby(['Year'])['Value'].sum().reset_index()\n",
        "\n",
        "#4. cambiar el nombre de Value \n",
        "df_centroamerica_year.rename(columns={'Value': 'total_por_año'}, inplace=True)\n",
        "\n",
        "print(df_centroamerica_year)\n"
      ]
    },
    {
      "cell_type": "markdown",
      "id": "8fdaae3d",
      "metadata": {
        "id": "8fdaae3d"
      },
      "source": [
        "# Pregunta 13"
      ]
    },
    {
      "cell_type": "markdown",
      "id": "8a7e17ff",
      "metadata": {
        "id": "8a7e17ff"
      },
      "source": [
        "Para sólo los países de Centroamérica ['El Salvador', 'Honduras', 'Guatemala', 'Costa Rica', 'Nicaragua'] obtener un reporte por año de las emisiones en promedio en Centroamérica usando el dataframe 'df_emisions_co2_per_capita'?\n",
        "Se espera un dataframe de 2 columnas: 'Year' y 'promedio_por_año'"
      ]
    },
    {
      "cell_type": "code",
      "execution_count": null,
      "id": "4ec787f4",
      "metadata": {
        "id": "4ec787f4"
      },
      "outputs": [
        {
          "name": "stdout",
          "output_type": "stream",
          "text": [
            "   Year  promedio_por_año\n",
            "0  1975            0.5690\n",
            "1  1985            0.4620\n",
            "2  1995            0.7626\n",
            "3  2005            0.9720\n",
            "4  2010            0.9538\n",
            "5  2015            1.0572\n",
            "6  2016            1.0720\n",
            "7  2017            1.0422\n"
          ]
        }
      ],
      "source": [
        "# Coloque el código que responda a la pregunta aqui exactamente lo que se pregunta\n",
        "\n",
        "#1. Lista de paises\n",
        "paises_centroamerica = ['El Salvador', 'Honduras', 'Guatemala', 'Costa Rica', 'Nicaragua']\n",
        "\n",
        "#2. Seleccionar países en df_emisions_co2_per_capita\n",
        "df_centroamerica_per_capita = df_emisions_co2_per_capita[df_emisions_co2_per_capita['Country'].isin(paises_centroamerica)]\n",
        "\n",
        "#3. group by anio y emisiones totales per cápita\n",
        "df_centroamerica_year_mean = df_centroamerica_per_capita.groupby('Year')['Value'].mean().reset_index()\n",
        "\n",
        "#4. Cambiar el nombre de 'value'\n",
        "df_centroamerica_year_mean.rename(columns={'Value': 'promedio_por_año'}, inplace=True)\n",
        "\n",
        "print(df_centroamerica_year_mean)"
      ]
    },
    {
      "cell_type": "markdown",
      "id": "944ac865",
      "metadata": {
        "id": "944ac865"
      },
      "source": [
        "# Pregunta 14"
      ]
    },
    {
      "cell_type": "markdown",
      "id": "b961da55",
      "metadata": {
        "id": "b961da55"
      },
      "source": [
        "Cuál es el promedio de las emisiones per capita para el año 2005 usando el dataframe 'df_emisions_co2_per_capita'?\n"
      ]
    },
    {
      "cell_type": "code",
      "execution_count": 35,
      "id": "e2f0a786",
      "metadata": {
        "id": "e2f0a786"
      },
      "outputs": [
        {
          "name": "stdout",
          "output_type": "stream",
          "text": [
            "-----Promedio de emisiones per cápita en 2005----- \n",
            " 5.30 toneladas métricas.\n"
          ]
        }
      ],
      "source": [
        "# Coloque el código que responda a la pregunta aqui exactamente lo que se pregunta\n",
        "\n",
        "# anio 2005\n",
        "df_2005 = df_emisions_co2_per_capita[df_emisions_co2_per_capita['Year'] == 2005]\n",
        "\n",
        "# Calculo de promedio\n",
        "promedio_2005 = df_2005['Value'].mean()\n",
        "\n",
        "print(f'-----Promedio de emisiones per cápita en 2005----- \\n {promedio_2005:.2f} toneladas métricas.')"
      ]
    }
  ],
  "metadata": {
    "colab": {
      "provenance": []
    },
    "kernelspec": {
      "display_name": "Python 3",
      "language": "python",
      "name": "python3"
    },
    "language_info": {
      "codemirror_mode": {
        "name": "ipython",
        "version": 3
      },
      "file_extension": ".py",
      "mimetype": "text/x-python",
      "name": "python",
      "nbconvert_exporter": "python",
      "pygments_lexer": "ipython3",
      "version": "3.13.1"
    }
  },
  "nbformat": 4,
  "nbformat_minor": 5
}
